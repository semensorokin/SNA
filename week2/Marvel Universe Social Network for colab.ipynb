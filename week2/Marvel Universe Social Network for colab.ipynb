{
  "nbformat": 4,
  "nbformat_minor": 0,
  "metadata": {
    "kernelspec": {
      "display_name": "Python 3",
      "language": "python",
      "name": "python3"
    },
    "language_info": {
      "codemirror_mode": {
        "name": "ipython",
        "version": 3
      },
      "file_extension": ".py",
      "mimetype": "text/x-python",
      "name": "python",
      "nbconvert_exporter": "python",
      "pygments_lexer": "ipython3",
      "version": "3.6.8"
    },
    "colab": {
      "name": "Marvel Universe Social Network.ipynb",
      "provenance": []
    }
  },
  "cells": [
    {
      "cell_type": "code",
      "metadata": {
        "id": "0Orklwy_qps4",
        "colab_type": "code",
        "colab": {}
      },
      "source": [
        "import pandas as pd\n",
        "import networkx as nx\n",
        "import matplotlib.pyplot as plt"
      ],
      "execution_count": 1,
      "outputs": []
    },
    {
      "cell_type": "code",
      "metadata": {
        "id": "WwA6PeU3qrYv",
        "colab_type": "code",
        "colab": {
          "base_uri": "https://localhost:8080/",
          "height": 207
        },
        "outputId": "e2593b17-ddb2-4d62-bf57-c4c228f5c2d8"
      },
      "source": [
        "!wget https://raw.githubusercontent.com/semensorokin/SNA_2021/master/week2/hero-network.csv"
      ],
      "execution_count": 2,
      "outputs": [
        {
          "output_type": "stream",
          "text": [
            "--2020-09-23 20:33:34--  https://raw.githubusercontent.com/semensorokin/SNA_2021/master/week2/hero-network.csv\n",
            "Resolving raw.githubusercontent.com (raw.githubusercontent.com)... 151.101.0.133, 151.101.64.133, 151.101.128.133, ...\n",
            "Connecting to raw.githubusercontent.com (raw.githubusercontent.com)|151.101.0.133|:443... connected.\n",
            "HTTP request sent, awaiting response... 200 OK\n",
            "Length: 22222596 (21M) [text/plain]\n",
            "Saving to: ‘hero-network.csv’\n",
            "\n",
            "hero-network.csv    100%[===================>]  21.19M  33.0MB/s    in 0.6s    \n",
            "\n",
            "2020-09-23 20:33:35 (33.0 MB/s) - ‘hero-network.csv’ saved [22222596/22222596]\n",
            "\n"
          ],
          "name": "stdout"
        }
      ]
    },
    {
      "cell_type": "code",
      "metadata": {
        "id": "CN2IVIjHqps7",
        "colab_type": "code",
        "colab": {}
      },
      "source": [
        "hero_network = pd.read_csv(\"./hero-network.csv\")"
      ],
      "execution_count": 3,
      "outputs": []
    },
    {
      "cell_type": "markdown",
      "metadata": {
        "id": "p-HWT6Wkqps-",
        "colab_type": "text"
      },
      "source": [
        "Познакомимся с данными"
      ]
    },
    {
      "cell_type": "code",
      "metadata": {
        "id": "xQcdzwnRqps_",
        "colab_type": "code",
        "colab": {
          "base_uri": "https://localhost:8080/",
          "height": 198
        },
        "outputId": "e778334a-9f72-4e9d-a185-312b8e5e5bca"
      },
      "source": [
        "hero_network.head()"
      ],
      "execution_count": 4,
      "outputs": [
        {
          "output_type": "execute_result",
          "data": {
            "text/html": [
              "<div>\n",
              "<style scoped>\n",
              "    .dataframe tbody tr th:only-of-type {\n",
              "        vertical-align: middle;\n",
              "    }\n",
              "\n",
              "    .dataframe tbody tr th {\n",
              "        vertical-align: top;\n",
              "    }\n",
              "\n",
              "    .dataframe thead th {\n",
              "        text-align: right;\n",
              "    }\n",
              "</style>\n",
              "<table border=\"1\" class=\"dataframe\">\n",
              "  <thead>\n",
              "    <tr style=\"text-align: right;\">\n",
              "      <th></th>\n",
              "      <th>hero1</th>\n",
              "      <th>hero2</th>\n",
              "    </tr>\n",
              "  </thead>\n",
              "  <tbody>\n",
              "    <tr>\n",
              "      <th>0</th>\n",
              "      <td>LITTLE, ABNER</td>\n",
              "      <td>PRINCESS ZANDA</td>\n",
              "    </tr>\n",
              "    <tr>\n",
              "      <th>1</th>\n",
              "      <td>LITTLE, ABNER</td>\n",
              "      <td>BLACK PANTHER/T'CHAL</td>\n",
              "    </tr>\n",
              "    <tr>\n",
              "      <th>2</th>\n",
              "      <td>BLACK PANTHER/T'CHAL</td>\n",
              "      <td>PRINCESS ZANDA</td>\n",
              "    </tr>\n",
              "    <tr>\n",
              "      <th>3</th>\n",
              "      <td>LITTLE, ABNER</td>\n",
              "      <td>PRINCESS ZANDA</td>\n",
              "    </tr>\n",
              "    <tr>\n",
              "      <th>4</th>\n",
              "      <td>LITTLE, ABNER</td>\n",
              "      <td>BLACK PANTHER/T'CHAL</td>\n",
              "    </tr>\n",
              "  </tbody>\n",
              "</table>\n",
              "</div>"
            ],
            "text/plain": [
              "                  hero1                 hero2\n",
              "0         LITTLE, ABNER        PRINCESS ZANDA\n",
              "1         LITTLE, ABNER  BLACK PANTHER/T'CHAL\n",
              "2  BLACK PANTHER/T'CHAL        PRINCESS ZANDA\n",
              "3         LITTLE, ABNER        PRINCESS ZANDA\n",
              "4         LITTLE, ABNER  BLACK PANTHER/T'CHAL"
            ]
          },
          "metadata": {
            "tags": []
          },
          "execution_count": 4
        }
      ]
    },
    {
      "cell_type": "code",
      "metadata": {
        "id": "7PtF_LBTqptC",
        "colab_type": "code",
        "colab": {
          "base_uri": "https://localhost:8080/",
          "height": 35
        },
        "outputId": "e258e73e-8814-46b8-a2a6-6716e0fab0b5"
      },
      "source": [
        "hero_network.shape"
      ],
      "execution_count": 5,
      "outputs": [
        {
          "output_type": "execute_result",
          "data": {
            "text/plain": [
              "(574467, 2)"
            ]
          },
          "metadata": {
            "tags": []
          },
          "execution_count": 5
        }
      ]
    },
    {
      "cell_type": "markdown",
      "metadata": {
        "id": "V8nMFMczqptE",
        "colab_type": "text"
      },
      "source": [
        "Уберем дубликаты "
      ]
    },
    {
      "cell_type": "code",
      "metadata": {
        "id": "Wfrgzh9mqptF",
        "colab_type": "code",
        "colab": {}
      },
      "source": [
        "hero_network_dd = hero_network.drop_duplicates()"
      ],
      "execution_count": 6,
      "outputs": []
    },
    {
      "cell_type": "code",
      "metadata": {
        "id": "gz08_AVaqptH",
        "colab_type": "code",
        "colab": {
          "base_uri": "https://localhost:8080/",
          "height": 35
        },
        "outputId": "617ff8de-77c8-4e3d-90e4-e42d17646cdf"
      },
      "source": [
        "hero_network_dd.shape"
      ],
      "execution_count": 7,
      "outputs": [
        {
          "output_type": "execute_result",
          "data": {
            "text/plain": [
              "(224181, 2)"
            ]
          },
          "metadata": {
            "tags": []
          },
          "execution_count": 7
        }
      ]
    },
    {
      "cell_type": "markdown",
      "metadata": {
        "id": "T91wt6ipqptK",
        "colab_type": "text"
      },
      "source": [
        "Количество героев (будущих вершин в графе) "
      ]
    },
    {
      "cell_type": "code",
      "metadata": {
        "id": "wtJU4ODtqptK",
        "colab_type": "code",
        "colab": {
          "base_uri": "https://localhost:8080/",
          "height": 35
        },
        "outputId": "4fede23f-1b55-4acb-dbb1-3e16b836ddb9"
      },
      "source": [
        "len(set(hero_network_dd['hero2'].unique().tolist()) | set(hero_network_dd['hero1'].unique().tolist()))"
      ],
      "execution_count": 8,
      "outputs": [
        {
          "output_type": "execute_result",
          "data": {
            "text/plain": [
              "6426"
            ]
          },
          "metadata": {
            "tags": []
          },
          "execution_count": 8
        }
      ]
    },
    {
      "cell_type": "markdown",
      "metadata": {
        "id": "jlGUNzX1qptN",
        "colab_type": "text"
      },
      "source": [
        "Возьмкм только часть данных, чтобы лучше познакомиться с интерфейсом networkx"
      ]
    },
    {
      "cell_type": "code",
      "metadata": {
        "id": "1qP-MG6vqptQ",
        "colab_type": "code",
        "colab": {}
      },
      "source": [
        "net = nx.Graph()"
      ],
      "execution_count": 9,
      "outputs": []
    },
    {
      "cell_type": "code",
      "metadata": {
        "id": "yIiiYsoTqptS",
        "colab_type": "code",
        "colab": {}
      },
      "source": [
        "for line in hero_network_dd.iterrows():\n",
        "    net.add_edge(*line[1].values)"
      ],
      "execution_count": 10,
      "outputs": []
    },
    {
      "cell_type": "code",
      "metadata": {
        "id": "XNzydjDLqptU",
        "colab_type": "code",
        "colab": {
          "base_uri": "https://localhost:8080/",
          "height": 319
        },
        "outputId": "0b663011-f8cf-472d-9d6a-e508db6ef281"
      },
      "source": [
        "nx.draw(net)"
      ],
      "execution_count": 11,
      "outputs": [
        {
          "output_type": "display_data",
          "data": {
            "image/png": "[encoded data removed]",
            "text/plain": [
              "<Figure size 432x288 with 1 Axes>"
            ]
          },
          "metadata": {
            "tags": []
          }
        }
      ]
    },
    {
      "cell_type": "code",
      "metadata": {
        "id": "RpYwIKnpqptW",
        "colab_type": "code",
        "colab": {
          "base_uri": "https://localhost:8080/",
          "height": 35
        },
        "outputId": "fcb66685-76ec-4ee2-b60f-1622a832b352"
      },
      "source": [
        "print(\"Number of nodes: {}\".format(len(net.nodes())))"
      ],
      "execution_count": 12,
      "outputs": [
        {
          "output_type": "stream",
          "text": [
            "Number of nodes: 6426\n"
          ],
          "name": "stdout"
        }
      ]
    },
    {
      "cell_type": "code",
      "metadata": {
        "id": "VABm5GBcqptZ",
        "colab_type": "code",
        "colab": {
          "base_uri": "https://localhost:8080/",
          "height": 35
        },
        "outputId": "420f23c3-521e-4079-daa1-1d4f30d64b65"
      },
      "source": [
        "print(\"Number of edges: {}\".format(len(net.edges())))"
      ],
      "execution_count": 13,
      "outputs": [
        {
          "output_type": "stream",
          "text": [
            "Number of edges: 167219\n"
          ],
          "name": "stdout"
        }
      ]
    },
    {
      "cell_type": "code",
      "metadata": {
        "id": "pJRtQ3NZqptb",
        "colab_type": "code",
        "colab": {
          "base_uri": "https://localhost:8080/",
          "height": 35
        },
        "outputId": "5b5a858a-bb81-4216-8de3-577179903c8e"
      },
      "source": [
        "print(\"Average degree of nodes: {0:.2f}\".format(len(net.edges())/len(net.nodes())))"
      ],
      "execution_count": 14,
      "outputs": [
        {
          "output_type": "stream",
          "text": [
            "Average degree of nodes: 26.02\n"
          ],
          "name": "stdout"
        }
      ]
    },
    {
      "cell_type": "code",
      "metadata": {
        "id": "LFiEVIXnqptd",
        "colab_type": "code",
        "colab": {
          "base_uri": "https://localhost:8080/",
          "height": 35
        },
        "outputId": "580c04ce-c139-4f3c-fd52-758fcfaaf53b"
      },
      "source": [
        "print(\"Connected graph - {}\".format(nx.is_connected(net)))"
      ],
      "execution_count": 15,
      "outputs": [
        {
          "output_type": "stream",
          "text": [
            "Connected graph - False\n"
          ],
          "name": "stdout"
        }
      ]
    },
    {
      "cell_type": "code",
      "metadata": {
        "id": "DeMrTa3Jqptf",
        "colab_type": "code",
        "colab": {}
      },
      "source": [
        "largest_cc = max(nx.connected_components(net), key=len)"
      ],
      "execution_count": 16,
      "outputs": []
    },
    {
      "cell_type": "code",
      "metadata": {
        "id": "FrxcGuFOqpth",
        "colab_type": "code",
        "colab": {}
      },
      "source": [
        "small_net = net.subgraph(max(nx.connected_components(net), key=len))"
      ],
      "execution_count": 17,
      "outputs": []
    },
    {
      "cell_type": "code",
      "metadata": {
        "id": "4xzNxrcdqptj",
        "colab_type": "code",
        "colab": {
          "base_uri": "https://localhost:8080/",
          "height": 69
        },
        "outputId": "6f6dd7bb-afa2-4031-9008-acd3ffcef3ab"
      },
      "source": [
        "print(\"Number of nodes: {}\".format(len(small_net.nodes())))\n",
        "print(\"Number of edges: {}\".format(len(small_net.edges())))\n",
        "print(\"Average degree of nodes: {0:.2f}\".format(len(net.edges())/len(net.nodes())))"
      ],
      "execution_count": 18,
      "outputs": [
        {
          "output_type": "stream",
          "text": [
            "Number of nodes: 6408\n",
            "Number of edges: 167163\n",
            "Average degree of nodes: 26.02\n"
          ],
          "name": "stdout"
        }
      ]
    },
    {
      "cell_type": "code",
      "metadata": {
        "id": "xvlB0FXhqptl",
        "colab_type": "code",
        "colab": {
          "base_uri": "https://localhost:8080/",
          "height": 319
        },
        "outputId": "a8c284fc-cbd1-4311-ac04-2fd734c03924"
      },
      "source": [
        "nx.draw(small_net)"
      ],
      "execution_count": 19,
      "outputs": [
        {
          "output_type": "display_data",
          "data": {
            "image/png": "[encoded data removed]",
            "text/plain": [
              "<Figure size 432x288 with 1 Axes>"
            ]
          },
          "metadata": {
            "tags": []
          }
        }
      ]
    },
    {
      "cell_type": "code",
      "metadata": {
        "id": "Q7qduzA2qpto",
        "colab_type": "code",
        "colab": {
          "base_uri": "https://localhost:8080/",
          "height": 35
        },
        "outputId": "5ac2e5ef-8814-4176-f16d-36aad5accfc4"
      },
      "source": [
        "print(\"Density : {0:.3f}\".format(nx.density(small_net)))"
      ],
      "execution_count": 20,
      "outputs": [
        {
          "output_type": "stream",
          "text": [
            "Density : 0.008\n"
          ],
          "name": "stdout"
        }
      ]
    },
    {
      "cell_type": "code",
      "metadata": {
        "id": "nY0DlNdVqptq",
        "colab_type": "code",
        "colab": {}
      },
      "source": [
        "degree_view = nx.degree(small_net)"
      ],
      "execution_count": 21,
      "outputs": []
    },
    {
      "cell_type": "code",
      "metadata": {
        "id": "oSgMckq2qptr",
        "colab_type": "code",
        "colab": {
          "base_uri": "https://localhost:8080/",
          "height": 281
        },
        "outputId": "cfeb83b4-7f74-4eb6-c6c7-d36db08ac134"
      },
      "source": [
        "degree_values = dict(degree_view).values()\n",
        "plt.hist([i for i in list(degree_values)], bins = len(set(degree_values)))\n",
        "plt.title(\"Histogram of degree desctribution\")\n",
        "plt.show()"
      ],
      "execution_count": 22,
      "outputs": [
        {
          "output_type": "display_data",
          "data": {
            "image/png": "[encoded data removed]",
            "text/plain": [
              "<Figure size 432x288 with 1 Axes>"
            ]
          },
          "metadata": {
            "tags": [],
            "needs_background": "light"
          }
        }
      ]
    },
    {
      "cell_type": "code",
      "metadata": {
        "id": "xXOnS1SWqptt",
        "colab_type": "code",
        "colab": {}
      },
      "source": [
        "from collections import Counter\n",
        "res = Counter(list(dict(degree_view).values()))"
      ],
      "execution_count": 23,
      "outputs": []
    },
    {
      "cell_type": "code",
      "metadata": {
        "id": "zsxkhnYnqptv",
        "colab_type": "code",
        "colab": {
          "base_uri": "https://localhost:8080/",
          "height": 281
        },
        "outputId": "fc33d5d9-530e-49ea-8ca2-8aeac11a7f88"
      },
      "source": [
        "plt.title(\"Scatter of degree desctribution\")\n",
        "plt.scatter(res.keys(), res.values())\n",
        "plt.show()"
      ],
      "execution_count": 24,
      "outputs": [
        {
          "output_type": "display_data",
          "data": {
            "image/png": "[encoded data removed]",
            "text/plain": [
              "<Figure size 432x288 with 1 Axes>"
            ]
          },
          "metadata": {
            "tags": [],
            "needs_background": "light"
          }
        }
      ]
    },
    {
      "cell_type": "code",
      "metadata": {
        "id": "w_M8ZZJIqptx",
        "colab_type": "code",
        "colab": {
          "base_uri": "https://localhost:8080/",
          "height": 281
        },
        "outputId": "d7e941c4-8b4f-4394-ed51-e977f256625e"
      },
      "source": [
        "import math\n",
        "plt.title(\"Log-log of degree desctribution\")\n",
        "plt.scatter([math.log(i) for i in res.keys()], [math.log(i) for i in res.values()])\n",
        "plt.show()"
      ],
      "execution_count": 25,
      "outputs": [
        {
          "output_type": "display_data",
          "data": {
            "image/png": "[encoded data removed]",
            "text/plain": [
              "<Figure size 432x288 with 1 Axes>"
            ]
          },
          "metadata": {
            "tags": [],
            "needs_background": "light"
          }
        }
      ]
    },
    {
      "cell_type": "code",
      "metadata": {
        "id": "HxEu_62Jqpty",
        "colab_type": "code",
        "colab": {
          "base_uri": "https://localhost:8080/",
          "height": 281
        },
        "outputId": "4477f94b-96a9-441f-f60c-3297b2723a0b"
      },
      "source": [
        "import numpy as np\n",
        "x = np.array([math.log(i) for i in res.keys()])\n",
        "y = np.array([math.log(i) for i in res.values()])\n",
        "m, b = np.polyfit(x, y, 1)\n",
        "plt.scatter(x, y)\n",
        "plt.plot(x, m*x + b)\n",
        "plt.title(\"Log-log of degree desctribution with linear regression\")\n",
        "plt.show()"
      ],
      "execution_count": 26,
      "outputs": [
        {
          "output_type": "display_data",
          "data": {
            "image/png": "[encoded data removed]",
            "text/plain": [
              "<Figure size 432x288 with 1 Axes>"
            ]
          },
          "metadata": {
            "tags": [],
            "needs_background": "light"
          }
        }
      ]
    }
  ]
}